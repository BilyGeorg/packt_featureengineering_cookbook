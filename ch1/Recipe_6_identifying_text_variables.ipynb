{
 "cells": [
  {
   "cell_type": "markdown",
   "metadata": {},
   "source": [
    "Text variables are those that contain text as values. They can contain entire documents, or just a few lines, like in this example here. For this recipe, we wil use the 5,000 #JustDoIt! Tweets Dataset from Kaggle, which you can download from this [website](https://www.kaggle.com/eliasdabbas/5000-justdoit-tweets-dataset), and save to the parent directory of this repository."
   ]
  },
  {
   "cell_type": "code",
   "execution_count": 1,
   "metadata": {},
   "outputs": [],
   "source": [
    "import pandas as pd"
   ]
  },
  {
   "cell_type": "code",
   "execution_count": 2,
   "metadata": {},
   "outputs": [
    {
     "data": {
      "text/plain": [
       "(5089, 1)"
      ]
     },
     "execution_count": 2,
     "metadata": {},
     "output_type": "execute_result"
    }
   ],
   "source": [
    "# load the tweets dataset\n",
    "\n",
    "data = pd.read_csv('../justdoit_tweets_2018_09_07_2.csv', usecols = ['tweet_full_text'])\n",
    "data.shape"
   ]
  },
  {
   "cell_type": "code",
   "execution_count": 3,
   "metadata": {},
   "outputs": [
    {
     "name": "stdout",
     "output_type": "stream",
     "text": [
      "                                     tweet_full_text\n",
      "0  Done is better than perfect. — Sheryl Sandberg...\n",
      "1  Shout out to the Great Fire Department and the...\n",
      "2  There are some AMAZINGLY hilarious Nike Ad mem...\n",
      "3  #kapernickeffect #swoosh #justdoit @ Lucas Bis...\n",
      "4  One Hand, One Dream: The Shaquem Griffin Story...\n"
     ]
    }
   ],
   "source": [
    "# check the first 5 tweets\n",
    "print(data.head())"
   ]
  },
  {
   "cell_type": "code",
   "execution_count": 4,
   "metadata": {},
   "outputs": [
    {
     "name": "stdout",
     "output_type": "stream",
     "text": [
      "There are some AMAZINGLY hilarious Nike Ad memes happening on my newsfeed.  Soooo, I decided to get a little creative too... \n",
      "\n",
      "#JustDoIt #4YourMorning #4YourMemeCollection \n",
      "\n",
      "🍪😂 https://t.co/6ok9qR6k6M\n"
     ]
    }
   ],
   "source": [
    "# below pring a few example tweets\n",
    "print(data.loc[2, 'tweet_full_text'])"
   ]
  },
  {
   "cell_type": "code",
   "execution_count": 5,
   "metadata": {},
   "outputs": [
    {
     "name": "stdout",
     "output_type": "stream",
     "text": [
      "You are never too broke to shop your favourite fashion brands when they are at #Discounts365days #JustDoIt https://t.co/hwlxCLesVg\n"
     ]
    }
   ],
   "source": [
    "print(data.loc[22, 'tweet_full_text'])"
   ]
  },
  {
   "cell_type": "code",
   "execution_count": 6,
   "metadata": {},
   "outputs": [
    {
     "name": "stdout",
     "output_type": "stream",
     "text": [
      "Who wouldn't want Watson on their team! Imagine having that competitive edge in the business world. Watson on your team = a lot more GREEN. #JustDoIt #MoreMoney #LessProblems #AI #Watson https://t.co/rujJnkEV7r\n"
     ]
    }
   ],
   "source": [
    "print(data.loc[100, 'tweet_full_text'])"
   ]
  },
  {
   "cell_type": "code",
   "execution_count": null,
   "metadata": {},
   "outputs": [],
   "source": []
  }
 ],
 "metadata": {
  "kernelspec": {
   "display_name": "feml",
   "language": "python",
   "name": "feml"
  },
  "language_info": {
   "codemirror_mode": {
    "name": "ipython",
    "version": 3
   },
   "file_extension": ".py",
   "mimetype": "text/x-python",
   "name": "python",
   "nbconvert_exporter": "python",
   "pygments_lexer": "ipython3",
   "version": "3.7.3"
  },
  "toc": {
   "base_numbering": 1,
   "nav_menu": {},
   "number_sections": true,
   "sideBar": true,
   "skip_h1_title": false,
   "title_cell": "Table of Contents",
   "title_sidebar": "Contents",
   "toc_cell": false,
   "toc_position": {},
   "toc_section_display": true,
   "toc_window_display": false
  }
 },
 "nbformat": 4,
 "nbformat_minor": 2
}
