{
 "cells": [
  {
   "cell_type": "markdown",
   "metadata": {},
   "source": [
    "Date time variables, take dates, time or date and time as values. Some variables contain only dates, some only time, and some both date and time. We can enrich the dataset dramatically by extracting information from the date and time. In this recipe, we will become familiar with how date and time variables look like."
   ]
  },
  {
   "cell_type": "code",
   "execution_count": 1,
   "metadata": {},
   "outputs": [],
   "source": [
    "import pandas as pd\n",
    "import numpy as np"
   ]
  },
  {
   "cell_type": "code",
   "execution_count": 2,
   "metadata": {},
   "outputs": [
    {
     "name": "stdout",
     "output_type": "stream",
     "text": [
      "                Date1      Date2       Val\n",
      "0 2019-03-05 00:00:00 2019-03-05 -0.417482\n",
      "1 2019-03-05 00:01:00 2019-03-06  0.706032\n",
      "2 2019-03-05 00:02:00 2019-03-07  1.915985\n",
      "3 2019-03-05 00:03:00 2019-03-08 -2.141755\n",
      "4 2019-03-05 00:04:00 2019-03-09  0.719057\n"
     ]
    }
   ],
   "source": [
    "np.random.seed(29)\n",
    "\n",
    "# create an array of 5 dates starting at '2019-03-05', one per minute\n",
    "rng_min = pd.date_range('2019-03-05', periods=5, freq='T')\n",
    "\n",
    "# create an array of 5 dates starting at '2019-03-05', one per day\n",
    "rng_day = pd.date_range('2019-03-05', periods=5, freq='D')\n",
    "\n",
    "df = pd.DataFrame({ 'Date1': rng_min, 'Date2': rng_day, 'Val': np.random.randn(len(rng_min)) }) \n",
    "\n",
    "print(df)"
   ]
  },
  {
   "cell_type": "code",
   "execution_count": 3,
   "metadata": {},
   "outputs": [
    {
     "data": {
      "text/plain": [
       "Date1    datetime64[ns]\n",
       "Date2    datetime64[ns]\n",
       "Val             float64\n",
       "dtype: object"
      ]
     },
     "execution_count": 3,
     "metadata": {},
     "output_type": "execute_result"
    }
   ],
   "source": [
    "df.dtypes"
   ]
  },
  {
   "cell_type": "markdown",
   "metadata": {},
   "source": [
    "Below we can see the format of date variables in a real dataset. This is the loan book data set from Lending Club which is publicly available and can be downloaded from this [website](https://www.lendingclub.com/info/download-data.action). For this demo, go ahead and donwload the \"Loan Data\" (not the \"Declined Loan Data\") and save it to the parent directory of this repository."
   ]
  },
  {
   "cell_type": "code",
   "execution_count": 4,
   "metadata": {
    "scrolled": true
   },
   "outputs": [
    {
     "name": "stderr",
     "output_type": "stream",
     "text": [
      "C:\\Users\\Sole\\Anaconda3\\envs\\feml\\lib\\site-packages\\IPython\\core\\interactiveshell.py:3049: DtypeWarning: Columns (47) have mixed types. Specify dtype option on import or set low_memory=False.\n",
      "  interactivity=interactivity, compiler=compiler, result=result)\n"
     ]
    },
    {
     "data": {
      "text/html": [
       "<div>\n",
       "<style scoped>\n",
       "    .dataframe tbody tr th:only-of-type {\n",
       "        vertical-align: middle;\n",
       "    }\n",
       "\n",
       "    .dataframe tbody tr th {\n",
       "        vertical-align: top;\n",
       "    }\n",
       "\n",
       "    .dataframe thead th {\n",
       "        text-align: right;\n",
       "    }\n",
       "</style>\n",
       "<table border=\"1\" class=\"dataframe\">\n",
       "  <thead>\n",
       "    <tr style=\"text-align: right;\">\n",
       "      <th></th>\n",
       "      <th>issue_d</th>\n",
       "      <th>last_pymnt_d</th>\n",
       "      <th>next_pymnt_d</th>\n",
       "      <th>last_credit_pull_d</th>\n",
       "      <th>debt_settlement_flag_date</th>\n",
       "      <th>settlement_date</th>\n",
       "    </tr>\n",
       "  </thead>\n",
       "  <tbody>\n",
       "    <tr>\n",
       "      <th>0</th>\n",
       "      <td>Dec-2011</td>\n",
       "      <td>Jan-2015</td>\n",
       "      <td>NaN</td>\n",
       "      <td>Dec-2018</td>\n",
       "      <td>NaN</td>\n",
       "      <td>NaN</td>\n",
       "    </tr>\n",
       "    <tr>\n",
       "      <th>1</th>\n",
       "      <td>Dec-2011</td>\n",
       "      <td>Apr-2013</td>\n",
       "      <td>NaN</td>\n",
       "      <td>Oct-2016</td>\n",
       "      <td>NaN</td>\n",
       "      <td>NaN</td>\n",
       "    </tr>\n",
       "    <tr>\n",
       "      <th>2</th>\n",
       "      <td>Dec-2011</td>\n",
       "      <td>Jun-2014</td>\n",
       "      <td>NaN</td>\n",
       "      <td>Jun-2017</td>\n",
       "      <td>NaN</td>\n",
       "      <td>NaN</td>\n",
       "    </tr>\n",
       "    <tr>\n",
       "      <th>3</th>\n",
       "      <td>Dec-2011</td>\n",
       "      <td>Jan-2015</td>\n",
       "      <td>NaN</td>\n",
       "      <td>Apr-2016</td>\n",
       "      <td>NaN</td>\n",
       "      <td>NaN</td>\n",
       "    </tr>\n",
       "    <tr>\n",
       "      <th>4</th>\n",
       "      <td>Dec-2011</td>\n",
       "      <td>Jan-2017</td>\n",
       "      <td>NaN</td>\n",
       "      <td>Apr-2018</td>\n",
       "      <td>NaN</td>\n",
       "      <td>NaN</td>\n",
       "    </tr>\n",
       "  </tbody>\n",
       "</table>\n",
       "</div>"
      ],
      "text/plain": [
       "    issue_d last_pymnt_d next_pymnt_d last_credit_pull_d  \\\n",
       "0  Dec-2011     Jan-2015          NaN           Dec-2018   \n",
       "1  Dec-2011     Apr-2013          NaN           Oct-2016   \n",
       "2  Dec-2011     Jun-2014          NaN           Jun-2017   \n",
       "3  Dec-2011     Jan-2015          NaN           Apr-2016   \n",
       "4  Dec-2011     Jan-2017          NaN           Apr-2018   \n",
       "\n",
       "  debt_settlement_flag_date settlement_date  \n",
       "0                       NaN             NaN  \n",
       "1                       NaN             NaN  \n",
       "2                       NaN             NaN  \n",
       "3                       NaN             NaN  \n",
       "4                       NaN             NaN  "
      ]
     },
     "execution_count": 4,
     "metadata": {},
     "output_type": "execute_result"
    }
   ],
   "source": [
    "# load the titanic dataset as example\n",
    "\n",
    "date_cols = [\n",
    "    'issue_d', 'last_pymnt_d', 'next_pymnt_d', 'last_credit_pull_d',\n",
    "    'debt_settlement_flag_date', 'settlement_date'\n",
    "]\n",
    "\n",
    "data = pd.read_csv('../LoanStats3a.csv', skiprows=1, usecols=date_cols)\n",
    "data.head()"
   ]
  },
  {
   "cell_type": "code",
   "execution_count": 5,
   "metadata": {},
   "outputs": [
    {
     "data": {
      "text/plain": [
       "issue_d                      object\n",
       "last_pymnt_d                 object\n",
       "next_pymnt_d                 object\n",
       "last_credit_pull_d           object\n",
       "debt_settlement_flag_date    object\n",
       "settlement_date              object\n",
       "dtype: object"
      ]
     },
     "execution_count": 5,
     "metadata": {},
     "output_type": "execute_result"
    }
   ],
   "source": [
    "data.dtypes"
   ]
  },
  {
   "cell_type": "code",
   "execution_count": 6,
   "metadata": {},
   "outputs": [
    {
     "data": {
      "text/plain": [
       "array(['Dec-2011', 'Nov-2011', 'Oct-2011', 'Sep-2011', 'Aug-2011',\n",
       "       'Jul-2011', 'Jun-2011', 'May-2011', 'Apr-2011', 'Mar-2011',\n",
       "       'Feb-2011', 'Jan-2011', 'Dec-2010', 'Nov-2010', 'Oct-2010',\n",
       "       'Sep-2010', 'Aug-2010', 'Jul-2010', 'Jun-2010', 'May-2010',\n",
       "       'Apr-2010', 'Mar-2010', 'Feb-2010', 'Jan-2010', 'Dec-2009',\n",
       "       'Nov-2009', 'Oct-2009', 'Sep-2009', 'Aug-2009', 'Jul-2009',\n",
       "       'Jun-2009', 'May-2009', 'Apr-2009', 'Mar-2009', 'Feb-2009',\n",
       "       'Jan-2009', 'Dec-2008', 'Nov-2008', 'Oct-2008', 'Sep-2008',\n",
       "       'Aug-2008', 'Jul-2008', 'Jun-2008', 'May-2008', 'Apr-2008',\n",
       "       'Mar-2008', 'Feb-2008', 'Jan-2008', 'Dec-2007', 'Nov-2007',\n",
       "       'Oct-2007', 'Sep-2007', 'Aug-2007', 'Jul-2007', 'Jun-2007', nan],\n",
       "      dtype=object)"
      ]
     },
     "execution_count": 6,
     "metadata": {},
     "output_type": "execute_result"
    }
   ],
   "source": [
    "data['issue_d'].unique()"
   ]
  },
  {
   "cell_type": "code",
   "execution_count": 7,
   "metadata": {
    "scrolled": true
   },
   "outputs": [
    {
     "name": "stdout",
     "output_type": "stream",
     "text": [
      "issue_d \n",
      " ['Dec-2011' 'Nov-2011' 'Oct-2011' 'Sep-2011' 'Aug-2011' 'Jul-2011'\n",
      " 'Jun-2011' 'May-2011' 'Apr-2011' 'Mar-2011' 'Feb-2011' 'Jan-2011'\n",
      " 'Dec-2010' 'Nov-2010' 'Oct-2010' 'Sep-2010' 'Aug-2010' 'Jul-2010'\n",
      " 'Jun-2010' 'May-2010' 'Apr-2010' 'Mar-2010' 'Feb-2010' 'Jan-2010'\n",
      " 'Dec-2009' 'Nov-2009' 'Oct-2009' 'Sep-2009' 'Aug-2009' 'Jul-2009'\n",
      " 'Jun-2009' 'May-2009' 'Apr-2009' 'Mar-2009' 'Feb-2009' 'Jan-2009'\n",
      " 'Dec-2008' 'Nov-2008' 'Oct-2008' 'Sep-2008' 'Aug-2008' 'Jul-2008'\n",
      " 'Jun-2008' 'May-2008' 'Apr-2008' 'Mar-2008' 'Feb-2008' 'Jan-2008'\n",
      " 'Dec-2007' 'Nov-2007' 'Oct-2007' 'Sep-2007' 'Aug-2007' 'Jul-2007'\n",
      " 'Jun-2007' nan] \n",
      "\n",
      "last_pymnt_d \n",
      " ['Jan-2015' 'Apr-2013' 'Jun-2014' 'Jan-2017' 'May-2016' 'Apr-2012'\n",
      " 'Nov-2012' 'Jun-2013' 'Sep-2013' 'Jul-2012' 'Oct-2013' 'May-2013'\n",
      " 'Feb-2015' 'Aug-2015' 'Oct-2012' 'Sep-2012' nan 'Dec-2012' 'Dec-2014'\n",
      " 'Aug-2013' 'Nov-2013' 'Jan-2014' 'Apr-2014' 'Aug-2014' 'Oct-2014'\n",
      " 'Aug-2012' 'Jul-2014' 'Jul-2013' 'Jan-2016' 'Feb-2016' 'Apr-2015'\n",
      " 'Feb-2014' 'Sep-2014' 'Jun-2012' 'Feb-2013' 'Jun-2016' 'Mar-2013'\n",
      " 'May-2014' 'Mar-2015' 'Jan-2013' 'Dec-2013' 'Feb-2012' 'Mar-2014'\n",
      " 'Sep-2015' 'Nov-2015' 'Mar-2016' 'Jan-2012' 'Oct-2015' 'Dec-2016'\n",
      " 'Nov-2014' 'Mar-2012' 'May-2012' 'Aug-2016' 'Jul-2016' 'Oct-2016'\n",
      " 'Dec-2015' 'Jun-2015' 'Feb-2017' 'Sep-2016' 'Nov-2016' 'May-2015'\n",
      " 'Jul-2015' 'Apr-2016' 'Apr-2017' 'Dec-2011' 'Nov-2011' 'Oct-2011'\n",
      " 'Sep-2011' 'Aug-2011' 'Jul-2011' 'Jun-2011' 'May-2011' 'Apr-2011'\n",
      " 'Mar-2011' 'Feb-2011' 'Jan-2011' 'Dec-2010' 'Nov-2010' 'Oct-2010'\n",
      " 'Sep-2010' 'Aug-2010' 'Jul-2010' 'Jun-2010' 'May-2010' 'Apr-2010'\n",
      " 'Mar-2010' 'Feb-2010' 'Jan-2010' 'Dec-2009' 'Nov-2009' 'Oct-2009'\n",
      " 'Sep-2009' 'Aug-2009' 'Jul-2009' 'Jun-2009' 'May-2009' 'Apr-2009'\n",
      " 'Mar-2009' 'Feb-2009' 'Jan-2009' 'Dec-2008' 'Oct-2008' 'Aug-2008'\n",
      " 'Jul-2008' 'Sep-2008' 'Jun-2008' 'May-2008' 'Nov-2008' 'Apr-2008'\n",
      " 'Mar-2008' 'Feb-2008' 'Jan-2008' 'Dec-2007'] \n",
      "\n",
      "next_pymnt_d \n",
      " [nan 'Jan-2016' 'Sep-2013' 'Feb-2016' 'Feb-2014' 'May-2014' 'Jun-2013'\n",
      " 'Mar-2012' 'Apr-2012' 'May-2013' 'Aug-2012' 'Aug-2013' 'Jun-2012'\n",
      " 'Nov-2013' 'Feb-2012' 'Oct-2011' 'Jan-2013' 'Jan-2014' 'Jul-2013'\n",
      " 'Jul-2015' 'Jan-2012' 'Dec-2012' 'Jun-2011' 'Feb-2013' 'Nov-2011'\n",
      " 'Nov-2012' 'Dec-2011' 'Aug-2011' 'Sep-2011' 'Apr-2011' 'Mar-2014'\n",
      " 'Apr-2013' 'Mar-2011' 'Jul-2012' 'Aug-2014' 'Oct-2013' 'Sep-2012'\n",
      " 'May-2012' 'Apr-2015' 'Jul-2011' 'Dec-2015' 'Dec-2013' 'Jan-2011'\n",
      " 'Oct-2012' 'Nov-2014' 'Mar-2013' 'Aug-2015' 'Feb-2015' 'May-2015'\n",
      " 'Jul-2014' 'Nov-2015' 'Sep-2014' 'Oct-2015' 'May-2011' 'Feb-2011'\n",
      " 'Dec-2014' 'Jun-2015' 'Apr-2014' 'Jan-2015' 'Sep-2015' 'Jun-2014'\n",
      " 'Nov-2010' 'Oct-2010' 'Dec-2010' 'Mar-2015' 'Oct-2014' 'Jul-2010'\n",
      " 'Sep-2010' 'May-2010' 'Aug-2010' 'Mar-2010' 'Jun-2010' 'Apr-2010'\n",
      " 'Feb-2010' 'Dec-2009' 'Nov-2009' 'Oct-2009' 'Jan-2010' 'Sep-2009'\n",
      " 'Jun-2009' 'Aug-2009' 'Jul-2009' 'May-2009' 'Apr-2009' 'Jan-2009'\n",
      " 'Oct-2008' 'Feb-2009' 'Nov-2008' 'Sep-2008' 'Mar-2009' 'Dec-2008'\n",
      " 'Aug-2008' 'Jun-2008' 'Jul-2008' 'Apr-2008' 'May-2008' 'Feb-2008'\n",
      " 'Jan-2008' 'Mar-2008'] \n",
      "\n",
      "last_credit_pull_d \n",
      " ['Dec-2018' 'Oct-2016' 'Jun-2017' 'Apr-2016' 'Apr-2018' 'Feb-2017'\n",
      " 'Dec-2014' 'Dec-2016' 'Nov-2018' 'Apr-2017' 'Oct-2018' 'Sep-2018'\n",
      " 'May-2014' 'Jul-2015' 'Feb-2016' 'Apr-2019' 'Jan-2018' 'Mar-2014'\n",
      " 'Sep-2012' 'Feb-2019' 'Jan-2015' 'Mar-2018' 'Jan-2017' 'Aug-2018'\n",
      " 'Jun-2018' 'Mar-2019' 'Dec-2015' 'Jun-2012' 'Jan-2019' 'Jul-2018'\n",
      " 'Mar-2015' 'Sep-2014' 'Jan-2016' 'Apr-2014' 'Oct-2014' 'Feb-2018'\n",
      " 'Feb-2014' 'Nov-2015' 'Jul-2014' 'Dec-2012' 'Feb-2013' 'Jul-2017'\n",
      " 'Jun-2016' 'Oct-2017' 'Jul-2016' 'Jun-2015' 'May-2018' 'Feb-2012'\n",
      " 'Nov-2013' 'Nov-2016' 'Oct-2015' 'May-2016' 'Nov-2017' 'Apr-2012'\n",
      " 'Aug-2017' 'Sep-2015' 'Mar-2016' 'May-2013' 'Jun-2014' 'Aug-2012'\n",
      " 'Sep-2013' 'Sep-2017' 'Jan-2012' 'Aug-2014' 'Oct-2013' 'May-2017'\n",
      " 'Mar-2017' 'May-2012' 'Aug-2016' 'Jul-2012' 'Jan-2014' 'Jun-2013'\n",
      " 'Dec-2017' 'Aug-2015' 'Dec-2013' 'Nov-2014' 'Sep-2016' 'Nov-2012'\n",
      " 'Mar-2013' 'Apr-2013' 'May-2015' 'Apr-2015' 'Feb-2015' 'Jul-2013'\n",
      " 'Mar-2012' 'Aug-2013' 'Oct-2012' 'Nov-2011' 'Dec-2011' 'Oct-2011'\n",
      " 'Sep-2011' 'Jan-2013' 'Aug-2011' 'Jul-2011' 'Jun-2011' 'May-2011'\n",
      " 'Apr-2011' 'Mar-2011' 'Feb-2011' 'Jan-2011' 'Dec-2010' 'Nov-2010'\n",
      " 'Oct-2010' nan 'Sep-2010' 'Aug-2010' 'Jul-2010' 'Jun-2010' 'May-2010'\n",
      " 'Apr-2010' 'Mar-2010' 'Feb-2010' 'Aug-2007' 'Jan-2010' 'Dec-2009'\n",
      " 'Nov-2009' 'Oct-2009' 'Sep-2009' 'Jul-2009' 'Aug-2009' 'May-2009'\n",
      " 'Jun-2009' 'Apr-2009' 'Mar-2009' 'Feb-2009' 'Dec-2008' 'Jan-2009'\n",
      " 'Jun-2008' 'Sep-2008' 'Aug-2008' 'Mar-2008' 'Oct-2008' 'Feb-2008'\n",
      " 'Jan-2008' 'Dec-2007' 'Jul-2008' 'Oct-2007' 'Sep-2007' 'Jun-2007'\n",
      " 'May-2007' 'Jul-2007' 'Nov-2007'] \n",
      "\n",
      "debt_settlement_flag_date \n",
      " [nan 'Feb-2016' 'May-2014' 'Apr-2014' 'Apr-2016' 'Feb-2015' 'Mar-2013'\n",
      " 'Mar-2014' 'Nov-2014' 'Jun-2017' 'Apr-2015' 'Sep-2015' 'Jun-2013'\n",
      " 'Feb-2014' 'Oct-2017' 'Apr-2017' 'Feb-2019' 'Jun-2016' 'Mar-2016'\n",
      " 'Dec-2015' 'Jun-2015' 'Dec-2013' 'Mar-2017' 'Jul-2014' 'Aug-2015'\n",
      " 'Sep-2014' 'Oct-2013' 'Dec-2014' 'Nov-2017' 'Sep-2013' 'Nov-2013'\n",
      " 'Jan-2015' 'Oct-2012' 'Jul-2018' 'Jul-2017' 'Jun-2012' 'Aug-2018'\n",
      " 'Aug-2013' 'May-2016' 'Apr-2013' 'Aug-2014' 'Sep-2016' 'Oct-2014'\n",
      " 'Oct-2016' 'Jun-2014' 'Jul-2013' 'Sep-2017' 'Feb-2012' 'Feb-2018'\n",
      " 'May-2018' 'Nov-2012' 'Sep-2018' 'Jul-2015' 'Jun-2018' 'May-2015'\n",
      " 'Sep-2012' 'Feb-2011' 'Dec-2016' 'Dec-2012' 'Oct-2011' 'Feb-2013'\n",
      " 'Nov-2011' 'Mar-2015' 'Feb-2010' 'Jan-2018'] \n",
      "\n",
      "settlement_date \n",
      " [nan 'Feb-2015' 'Nov-2013' 'Mar-2014' 'May-2015' 'Aug-2014' 'Mar-2013'\n",
      " 'Oct-2013' 'May-2014' 'Jul-2016' 'Jan-2015' 'Jun-2013' 'Feb-2014'\n",
      " 'Apr-2013' 'Apr-2017' 'Jun-2015' 'Aug-2015' 'Apr-2015' 'Feb-2013'\n",
      " 'May-2017' 'Aug-2013' 'Jan-2014' 'Jul-2014' 'Oct-2012' 'Dec-2013'\n",
      " 'Jun-2014' 'Mar-2016' 'Sep-2013' 'Feb-2017' 'Jul-2013' 'May-2012'\n",
      " 'Mar-2015' 'Apr-2018' 'Jun-2012' 'Oct-2014' 'Nov-2014' 'Feb-2018'\n",
      " 'Dec-2014' 'Apr-2016' 'Aug-2012' 'Jan-2012' 'Mar-2017' 'Sep-2016'\n",
      " 'Sep-2014' 'Sep-2012' 'Oct-2011' 'Feb-2012' 'Apr-2014' 'Jul-2012'\n",
      " 'Nov-2012' 'Nov-2017' 'Jan-2017' 'Jan-2018' 'May-2013' 'Feb-2011'\n",
      " 'Aug-2016' 'Jul-2011' 'Mar-2012' 'Feb-2010' 'Mar-2009' 'Aug-2017'\n",
      " 'Jan-2016'] \n",
      "\n"
     ]
    }
   ],
   "source": [
    "for col in date_cols:\n",
    "    print(col, '\\n', data[col].unique(),'\\n')"
   ]
  },
  {
   "cell_type": "code",
   "execution_count": 8,
   "metadata": {},
   "outputs": [
    {
     "data": {
      "text/plain": [
       "issue_d                      datetime64[ns]\n",
       "last_pymnt_d                 datetime64[ns]\n",
       "next_pymnt_d                 datetime64[ns]\n",
       "last_credit_pull_d           datetime64[ns]\n",
       "debt_settlement_flag_date    datetime64[ns]\n",
       "settlement_date              datetime64[ns]\n",
       "dtype: object"
      ]
     },
     "execution_count": 8,
     "metadata": {},
     "output_type": "execute_result"
    }
   ],
   "source": [
    "for col in date_cols:\n",
    "    data[col] = pd.to_datetime(data[col])\n",
    "    \n",
    "data.dtypes"
   ]
  },
  {
   "cell_type": "code",
   "execution_count": 9,
   "metadata": {},
   "outputs": [
    {
     "data": {
      "text/html": [
       "<div>\n",
       "<style scoped>\n",
       "    .dataframe tbody tr th:only-of-type {\n",
       "        vertical-align: middle;\n",
       "    }\n",
       "\n",
       "    .dataframe tbody tr th {\n",
       "        vertical-align: top;\n",
       "    }\n",
       "\n",
       "    .dataframe thead th {\n",
       "        text-align: right;\n",
       "    }\n",
       "</style>\n",
       "<table border=\"1\" class=\"dataframe\">\n",
       "  <thead>\n",
       "    <tr style=\"text-align: right;\">\n",
       "      <th></th>\n",
       "      <th>issue_d</th>\n",
       "      <th>last_pymnt_d</th>\n",
       "      <th>next_pymnt_d</th>\n",
       "      <th>last_credit_pull_d</th>\n",
       "      <th>debt_settlement_flag_date</th>\n",
       "      <th>settlement_date</th>\n",
       "    </tr>\n",
       "  </thead>\n",
       "  <tbody>\n",
       "    <tr>\n",
       "      <th>0</th>\n",
       "      <td>2011-12-01</td>\n",
       "      <td>2015-01-01</td>\n",
       "      <td>NaT</td>\n",
       "      <td>2018-12-01</td>\n",
       "      <td>NaT</td>\n",
       "      <td>NaT</td>\n",
       "    </tr>\n",
       "    <tr>\n",
       "      <th>1</th>\n",
       "      <td>2011-12-01</td>\n",
       "      <td>2013-04-01</td>\n",
       "      <td>NaT</td>\n",
       "      <td>2016-10-01</td>\n",
       "      <td>NaT</td>\n",
       "      <td>NaT</td>\n",
       "    </tr>\n",
       "    <tr>\n",
       "      <th>2</th>\n",
       "      <td>2011-12-01</td>\n",
       "      <td>2014-06-01</td>\n",
       "      <td>NaT</td>\n",
       "      <td>2017-06-01</td>\n",
       "      <td>NaT</td>\n",
       "      <td>NaT</td>\n",
       "    </tr>\n",
       "    <tr>\n",
       "      <th>3</th>\n",
       "      <td>2011-12-01</td>\n",
       "      <td>2015-01-01</td>\n",
       "      <td>NaT</td>\n",
       "      <td>2016-04-01</td>\n",
       "      <td>NaT</td>\n",
       "      <td>NaT</td>\n",
       "    </tr>\n",
       "    <tr>\n",
       "      <th>4</th>\n",
       "      <td>2011-12-01</td>\n",
       "      <td>2017-01-01</td>\n",
       "      <td>NaT</td>\n",
       "      <td>2018-04-01</td>\n",
       "      <td>NaT</td>\n",
       "      <td>NaT</td>\n",
       "    </tr>\n",
       "  </tbody>\n",
       "</table>\n",
       "</div>"
      ],
      "text/plain": [
       "     issue_d last_pymnt_d next_pymnt_d last_credit_pull_d  \\\n",
       "0 2011-12-01   2015-01-01          NaT         2018-12-01   \n",
       "1 2011-12-01   2013-04-01          NaT         2016-10-01   \n",
       "2 2011-12-01   2014-06-01          NaT         2017-06-01   \n",
       "3 2011-12-01   2015-01-01          NaT         2016-04-01   \n",
       "4 2011-12-01   2017-01-01          NaT         2018-04-01   \n",
       "\n",
       "  debt_settlement_flag_date settlement_date  \n",
       "0                       NaT             NaT  \n",
       "1                       NaT             NaT  \n",
       "2                       NaT             NaT  \n",
       "3                       NaT             NaT  \n",
       "4                       NaT             NaT  "
      ]
     },
     "execution_count": 9,
     "metadata": {},
     "output_type": "execute_result"
    }
   ],
   "source": [
    "data.head()"
   ]
  },
  {
   "cell_type": "code",
   "execution_count": null,
   "metadata": {},
   "outputs": [],
   "source": []
  }
 ],
 "metadata": {
  "kernelspec": {
   "display_name": "feml",
   "language": "python",
   "name": "feml"
  },
  "language_info": {
   "codemirror_mode": {
    "name": "ipython",
    "version": 3
   },
   "file_extension": ".py",
   "mimetype": "text/x-python",
   "name": "python",
   "nbconvert_exporter": "python",
   "pygments_lexer": "ipython3",
   "version": "3.7.3"
  },
  "toc": {
   "base_numbering": 1,
   "nav_menu": {},
   "number_sections": true,
   "sideBar": true,
   "skip_h1_title": false,
   "title_cell": "Table of Contents",
   "title_sidebar": "Contents",
   "toc_cell": false,
   "toc_position": {},
   "toc_section_display": true,
   "toc_window_display": false
  }
 },
 "nbformat": 4,
 "nbformat_minor": 2
}
