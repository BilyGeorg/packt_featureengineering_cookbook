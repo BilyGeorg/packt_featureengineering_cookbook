{
 "cells": [
  {
   "cell_type": "code",
   "execution_count": 1,
   "metadata": {},
   "outputs": [],
   "source": [
    "import pandas as pd\n",
    "\n",
    "from nltk.corpus import stopwords\n",
    "from nltk.stem.snowball import SnowballStemmer\n",
    "\n",
    "from sklearn.datasets import fetch_20newsgroups"
   ]
  },
  {
   "cell_type": "code",
   "execution_count": 2,
   "metadata": {},
   "outputs": [
    {
     "data": {
      "text/html": [
       "<div>\n",
       "<style scoped>\n",
       "    .dataframe tbody tr th:only-of-type {\n",
       "        vertical-align: middle;\n",
       "    }\n",
       "\n",
       "    .dataframe tbody tr th {\n",
       "        vertical-align: top;\n",
       "    }\n",
       "\n",
       "    .dataframe thead th {\n",
       "        text-align: right;\n",
       "    }\n",
       "</style>\n",
       "<table border=\"1\" class=\"dataframe\">\n",
       "  <thead>\n",
       "    <tr style=\"text-align: right;\">\n",
       "      <th></th>\n",
       "      <th>text</th>\n",
       "    </tr>\n",
       "  </thead>\n",
       "  <tbody>\n",
       "    <tr>\n",
       "      <th>0</th>\n",
       "      <td>From: lerxst@wam.umd.edu (where's my thing)\\nS...</td>\n",
       "    </tr>\n",
       "    <tr>\n",
       "      <th>1</th>\n",
       "      <td>From: guykuo@carson.u.washington.edu (Guy Kuo)...</td>\n",
       "    </tr>\n",
       "    <tr>\n",
       "      <th>2</th>\n",
       "      <td>From: twillis@ec.ecn.purdue.edu (Thomas E Will...</td>\n",
       "    </tr>\n",
       "    <tr>\n",
       "      <th>3</th>\n",
       "      <td>From: jgreen@amber (Joe Green)\\nSubject: Re: W...</td>\n",
       "    </tr>\n",
       "    <tr>\n",
       "      <th>4</th>\n",
       "      <td>From: jcm@head-cfa.harvard.edu (Jonathan McDow...</td>\n",
       "    </tr>\n",
       "  </tbody>\n",
       "</table>\n",
       "</div>"
      ],
      "text/plain": [
       "                                                text\n",
       "0  From: lerxst@wam.umd.edu (where's my thing)\\nS...\n",
       "1  From: guykuo@carson.u.washington.edu (Guy Kuo)...\n",
       "2  From: twillis@ec.ecn.purdue.edu (Thomas E Will...\n",
       "3  From: jgreen@amber (Joe Green)\\nSubject: Re: W...\n",
       "4  From: jcm@head-cfa.harvard.edu (Jonathan McDow..."
      ]
     },
     "execution_count": 2,
     "metadata": {},
     "output_type": "execute_result"
    }
   ],
   "source": [
    "# load data\n",
    "data = fetch_20newsgroups(subset='train')\n",
    "df = pd.DataFrame(data.data, columns=['text'])\n",
    "df.head()"
   ]
  },
  {
   "cell_type": "code",
   "execution_count": 3,
   "metadata": {},
   "outputs": [
    {
     "name": "stdout",
     "output_type": "stream",
     "text": [
      "From: irwin@cmptrc.lonestar.org (Irwin Arnstein)\n",
      "Subject: Re: Recommendation on Duc\n",
      "Summary: What's it worth?\n",
      "Distribution: usa\n",
      "Expires: Sat, 1 May 1993 05:00:00 GMT\n",
      "Organization: CompuTrac Inc., Richardson TX\n",
      "Keywords: Ducati, GTS, How much? \n",
      "Lines: 13\n",
      "\n",
      "I have a line on a Ducati 900GTS 1978 model with 17k on the clock.  Runs\n",
      "very well, paint is the bronze/brown/orange faded out, leaks a bit of oil\n",
      "and pops out of 1st with hard accel.  The shop will fix trans and oil \n",
      "leak.  They sold the bike to the 1 and only owner.  They want $3495, and\n",
      "I am thinking more like $3K.  Any opinions out there?  Please email me.\n",
      "Thanks.  It would be a nice stable mate to the Beemer.  Then I'll get\n",
      "a jap bike and call myself Axis Motors!\n",
      "\n",
      "-- \n",
      "-----------------------------------------------------------------------\n",
      "\"Tuba\" (Irwin)      \"I honk therefore I am\"     CompuTrac-Richardson,Tx\n",
      "irwin@cmptrc.lonestar.org    DoD #0826          (R75/6)\n",
      "-----------------------------------------------------------------------\n",
      "\n"
     ]
    }
   ],
   "source": [
    "# print example of text\n",
    "\n",
    "print(df['text'][10])"
   ]
  },
  {
   "cell_type": "code",
   "execution_count": 4,
   "metadata": {},
   "outputs": [],
   "source": [
    "# remove punctuation\n",
    "df[\"text\"] = df['text'].str.replace('[^\\w\\s]','')"
   ]
  },
  {
   "cell_type": "code",
   "execution_count": 5,
   "metadata": {},
   "outputs": [
    {
     "name": "stdout",
     "output_type": "stream",
     "text": [
      "From irwincmptrclonestarorg Irwin Arnstein\n",
      "Subject Re Recommendation on Duc\n",
      "Summary Whats it worth\n",
      "Distribution usa\n",
      "Expires Sat 1 May 1993 050000 GMT\n",
      "Organization CompuTrac Inc Richardson TX\n",
      "Keywords Ducati GTS How much \n",
      "Lines 13\n",
      "\n",
      "I have a line on a Ducati 900GTS 1978 model with 17k on the clock  Runs\n",
      "very well paint is the bronzebrownorange faded out leaks a bit of oil\n",
      "and pops out of 1st with hard accel  The shop will fix trans and oil \n",
      "leak  They sold the bike to the 1 and only owner  They want 3495 and\n",
      "I am thinking more like 3K  Any opinions out there  Please email me\n",
      "Thanks  It would be a nice stable mate to the Beemer  Then Ill get\n",
      "a jap bike and call myself Axis Motors\n",
      "\n",
      " \n",
      "\n",
      "Tuba Irwin      I honk therefore I am     CompuTracRichardsonTx\n",
      "irwincmptrclonestarorg    DoD 0826          R756\n",
      "\n",
      "\n"
     ]
    }
   ],
   "source": [
    "# print example without punctuation\n",
    "\n",
    "print(df['text'][10])"
   ]
  },
  {
   "cell_type": "code",
   "execution_count": 6,
   "metadata": {},
   "outputs": [],
   "source": [
    "# alternative way to remove punctuation\n",
    "import string\n",
    "df['text'] = df['text'].str.replace('[{}]'.format(string.punctuation), '')"
   ]
  },
  {
   "cell_type": "code",
   "execution_count": 7,
   "metadata": {},
   "outputs": [],
   "source": [
    "# remove numbers, keep only text\n",
    "\n",
    "df['text'] = df['text'].str.replace('\\d+', '')"
   ]
  },
  {
   "cell_type": "code",
   "execution_count": 8,
   "metadata": {},
   "outputs": [
    {
     "name": "stdout",
     "output_type": "stream",
     "text": [
      "From irwincmptrclonestarorg Irwin Arnstein\n",
      "Subject Re Recommendation on Duc\n",
      "Summary Whats it worth\n",
      "Distribution usa\n",
      "Expires Sat  May   GMT\n",
      "Organization CompuTrac Inc Richardson TX\n",
      "Keywords Ducati GTS How much \n",
      "Lines \n",
      "\n",
      "I have a line on a Ducati GTS  model with k on the clock  Runs\n",
      "very well paint is the bronzebrownorange faded out leaks a bit of oil\n",
      "and pops out of st with hard accel  The shop will fix trans and oil \n",
      "leak  They sold the bike to the  and only owner  They want  and\n",
      "I am thinking more like K  Any opinions out there  Please email me\n",
      "Thanks  It would be a nice stable mate to the Beemer  Then Ill get\n",
      "a jap bike and call myself Axis Motors\n",
      "\n",
      " \n",
      "\n",
      "Tuba Irwin      I honk therefore I am     CompuTracRichardsonTx\n",
      "irwincmptrclonestarorg    DoD           R\n",
      "\n",
      "\n"
     ]
    }
   ],
   "source": [
    "# print example without numbers\n",
    "\n",
    "print(df['text'][10])"
   ]
  },
  {
   "cell_type": "code",
   "execution_count": 9,
   "metadata": {},
   "outputs": [],
   "source": [
    "# put in lower case\n",
    "\n",
    "df['text'] = df['text'].str.lower()"
   ]
  },
  {
   "cell_type": "code",
   "execution_count": 10,
   "metadata": {},
   "outputs": [
    {
     "name": "stdout",
     "output_type": "stream",
     "text": [
      "from irwincmptrclonestarorg irwin arnstein\n",
      "subject re recommendation on duc\n",
      "summary whats it worth\n",
      "distribution usa\n",
      "expires sat  may   gmt\n",
      "organization computrac inc richardson tx\n",
      "keywords ducati gts how much \n",
      "lines \n",
      "\n",
      "i have a line on a ducati gts  model with k on the clock  runs\n",
      "very well paint is the bronzebrownorange faded out leaks a bit of oil\n",
      "and pops out of st with hard accel  the shop will fix trans and oil \n",
      "leak  they sold the bike to the  and only owner  they want  and\n",
      "i am thinking more like k  any opinions out there  please email me\n",
      "thanks  it would be a nice stable mate to the beemer  then ill get\n",
      "a jap bike and call myself axis motors\n",
      "\n",
      " \n",
      "\n",
      "tuba irwin      i honk therefore i am     computracrichardsontx\n",
      "irwincmptrclonestarorg    dod           r\n",
      "\n",
      "\n"
     ]
    }
   ],
   "source": [
    "# print example in lower case\n",
    "\n",
    "print(df['text'][10])"
   ]
  },
  {
   "cell_type": "code",
   "execution_count": 11,
   "metadata": {},
   "outputs": [],
   "source": [
    "# temove stop words\n",
    "\n",
    "def remove_stopwords(text):\n",
    "    stop = set(stopwords.words('english'))\n",
    "    text = [word for word in text.split() if word not in stop]\n",
    "    text = ' '.join(x for x in text)\n",
    "    return text"
   ]
  },
  {
   "cell_type": "code",
   "execution_count": 12,
   "metadata": {
    "scrolled": true
   },
   "outputs": [
    {
     "data": {
      "text/plain": [
       "'irwincmptrclonestarorg irwin arnstein subject recommendation duc summary whats worth distribution usa expires sat may gmt organization computrac inc richardson tx keywords ducati gts much lines line ducati gts model k clock runs well paint bronzebrownorange faded leaks bit oil pops st hard accel shop fix trans oil leak sold bike owner want thinking like k opinions please email thanks would nice stable mate beemer ill get jap bike call axis motors tuba irwin honk therefore computracrichardsontx irwincmptrclonestarorg dod r'"
      ]
     },
     "execution_count": 12,
     "metadata": {},
     "output_type": "execute_result"
    }
   ],
   "source": [
    "# test function on single text\n",
    "\n",
    "remove_stopwords(df['text'][10])"
   ]
  },
  {
   "cell_type": "code",
   "execution_count": 13,
   "metadata": {},
   "outputs": [],
   "source": [
    "# apply function to entire dataframe\n",
    "# (this operation takes a while)\n",
    "\n",
    "df['text'] = df['text'].apply(remove_stopwords_stopwords)"
   ]
  },
  {
   "cell_type": "code",
   "execution_count": 14,
   "metadata": {},
   "outputs": [
    {
     "name": "stdout",
     "output_type": "stream",
     "text": [
      "irwincmptrclonestarorg irwin arnstein subject recommendation duc summary whats worth distribution usa expires sat may gmt organization computrac inc richardson tx keywords ducati gts much lines line ducati gts model k clock runs well paint bronzebrownorange faded leaks bit oil pops st hard accel shop fix trans oil leak sold bike owner want thinking like k opinions please email thanks would nice stable mate beemer ill get jap bike call axis motors tuba irwin honk therefore computracrichardsontx irwincmptrclonestarorg dod r\n"
     ]
    }
   ],
   "source": [
    "# print example text without stopwords\n",
    "\n",
    "print(df['text'][10])"
   ]
  },
  {
   "cell_type": "code",
   "execution_count": 15,
   "metadata": {},
   "outputs": [],
   "source": [
    "# lemanize\n",
    "\n",
    "# http://www.nltk.org/howto/stem.html\n",
    "# for other stemmers\n",
    "\n",
    "stemmer = SnowballStemmer(\"english\")"
   ]
  },
  {
   "cell_type": "code",
   "execution_count": 23,
   "metadata": {},
   "outputs": [
    {
     "data": {
      "text/plain": [
       "'run'"
      ]
     },
     "execution_count": 23,
     "metadata": {},
     "output_type": "execute_result"
    }
   ],
   "source": [
    "# test stemmer in one word\n",
    "stemmer.stem('running')"
   ]
  },
  {
   "cell_type": "code",
   "execution_count": 30,
   "metadata": {},
   "outputs": [],
   "source": [
    "def stemm_words(text):\n",
    "    text = [stemmer.stem(word) for word in text.split()]\n",
    "    text = ' '.join(x for x in text)\n",
    "    return text"
   ]
  },
  {
   "cell_type": "code",
   "execution_count": 31,
   "metadata": {},
   "outputs": [
    {
     "data": {
      "text/plain": [
       "'irwincmptrclonestarorg irwin arnstein subject recommend duc summari what worth distribut usa expir sat may gmt organ computrac inc richardson tx keyword ducati gts much line line ducati gts model k clock run well paint bronzebrownorang fade leak bit oil pop st hard accel shop fix tran oil leak sold bike owner want think like k opinion pleas email thank would nice stabl mate beemer ill get jap bike call axi motor tuba irwin honk therefor computracrichardsontx irwincmptrclonestarorg dod r'"
      ]
     },
     "execution_count": 31,
     "metadata": {},
     "output_type": "execute_result"
    }
   ],
   "source": [
    "# test function on single text\n",
    "\n",
    "stemm_words(df['text'][10])"
   ]
  },
  {
   "cell_type": "code",
   "execution_count": 32,
   "metadata": {},
   "outputs": [],
   "source": [
    "# stem entire dataframe\n",
    "df['text'] = df['text'].apply(stemm_words)"
   ]
  },
  {
   "cell_type": "code",
   "execution_count": 33,
   "metadata": {},
   "outputs": [
    {
     "name": "stdout",
     "output_type": "stream",
     "text": [
      "irwincmptrclonestarorg irwin arnstein subject recommend duc summari what worth distribut usa expir sat may gmt organ computrac inc richardson tx keyword ducati gts much line line ducati gts model k clock run well paint bronzebrownorang fade leak bit oil pop st hard accel shop fix tran oil leak sold bike owner want think like k opinion pleas email thank would nice stabl mate beemer ill get jap bike call axi motor tuba irwin honk therefor computracrichardsontx irwincmptrclonestarorg dod r\n"
     ]
    }
   ],
   "source": [
    "# print example with stemmed words\n",
    "\n",
    "print(df['text'][10])"
   ]
  },
  {
   "cell_type": "code",
   "execution_count": null,
   "metadata": {},
   "outputs": [],
   "source": []
  }
 ],
 "metadata": {
  "kernelspec": {
   "display_name": "ftools",
   "language": "python",
   "name": "ftools"
  },
  "language_info": {
   "codemirror_mode": {
    "name": "ipython",
    "version": 3
   },
   "file_extension": ".py",
   "mimetype": "text/x-python",
   "name": "python",
   "nbconvert_exporter": "python",
   "pygments_lexer": "ipython3",
   "version": "3.7.3"
  },
  "toc": {
   "nav_menu": {},
   "number_sections": true,
   "sideBar": true,
   "skip_h1_title": false,
   "toc_cell": false,
   "toc_position": {},
   "toc_section_display": "block",
   "toc_window_display": false
  }
 },
 "nbformat": 4,
 "nbformat_minor": 2
}
